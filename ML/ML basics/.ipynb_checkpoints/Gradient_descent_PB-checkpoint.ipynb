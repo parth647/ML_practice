{
 "cells": [
  {
   "cell_type": "code",
   "execution_count": 58,
   "metadata": {},
   "outputs": [
    {
     "data": {
      "text/plain": [
       "'\\nauthor : Parth Bhardwaj \\ncredit : Codebasics tutorials\\n\\n'"
      ]
     },
     "execution_count": 58,
     "metadata": {},
     "output_type": "execute_result"
    }
   ],
   "source": [
    "'''\n",
    "author : Parth Bhardwaj \n",
    "credit : Codebasics tutorials\n",
    "\n",
    "'''\n",
    "\n"
   ]
  },
  {
   "cell_type": "code",
   "execution_count": 70,
   "metadata": {},
   "outputs": [],
   "source": [
    "### import packages here\n",
    "import numpy as np"
   ]
  },
  {
   "cell_type": "code",
   "execution_count": 71,
   "metadata": {},
   "outputs": [],
   "source": [
    "# prepare data\n",
    "x = np.arange(0,5)\n",
    "y = (x-2)"
   ]
  },
  {
   "cell_type": "code",
   "execution_count": 72,
   "metadata": {},
   "outputs": [
    {
     "name": "stdout",
     "output_type": "stream",
     "text": [
      "[0 1 2 3 4] [-2 -1  0  1  2]\n"
     ]
    }
   ],
   "source": [
    "print(x,y)"
   ]
  },
  {
   "cell_type": "code",
   "execution_count": 73,
   "metadata": {},
   "outputs": [
    {
     "data": {
      "text/plain": [
       "6"
      ]
     },
     "execution_count": 73,
     "metadata": {},
     "output_type": "execute_result"
    }
   ],
   "source": [
    "sum([1,2,3])"
   ]
  },
  {
   "cell_type": "code",
   "execution_count": 82,
   "metadata": {},
   "outputs": [],
   "source": [
    "def gradient_descent(x,y,iterations,learning_rate): #x and y are arrays\n",
    "    m_curr = b_curr =  0\n",
    "    iterations = iterations\n",
    "    n = len(x)\n",
    "    lr = learning_rate\n",
    "    prev_cost = []\n",
    "    for i in range(iterations):\n",
    "        y_pred = m_curr*x + b_curr\n",
    "        cost_f = (1/n)*(sum([val**2 for val in (y_pred-y)]))\n",
    "        dm = (-2/n)*(y - y_pred)*x\n",
    "        db = (-2/n)*(y - y_pred)\n",
    "        print(\"{} is the cost for {} iteration\".format(cost_f,i+1))\n",
    "        cur_cost = list(str(cost_f))\n",
    "        if(cur_cost[2:5]==prev_cost[2:5]):\n",
    "            break\n",
    "        \n",
    "        prev_cost =  cur_cost\n",
    "#,\\n value of y_pred is  {} and \\n y actual is {} and \\n dm is {} and \\n db is {}\".format(cost_f,i,y_pred,y,dm,db))\n",
    "        m_curr = m_curr - lr*dm\n",
    "        b_curr = b_curr - lr*db\n",
    "        \n",
    "        \n",
    "        \n",
    "        \n",
    "        \n",
    "    "
   ]
  },
  {
   "cell_type": "code",
   "execution_count": 83,
   "metadata": {},
   "outputs": [
    {
     "name": "stdout",
     "output_type": "stream",
     "text": [
      "2.0 is the cost for 1 iteration\n",
      "0.92992 is the cost for 2 iteration\n",
      "0.6864455680000001 is the cost for 3 iteration\n",
      "0.5570978332672002 is the cost for 4 iteration\n",
      "0.4603764775242956 is the cost for 5 iteration\n",
      "0.3825202788796224 is the cost for 6 iteration\n",
      "0.31881896305163165 is the cost for 7 iteration\n",
      "0.26637041824329705 is the cost for 8 iteration\n",
      "0.22300344454481213 is the cost for 9 iteration\n",
      "0.1870198502233471 is the cost for 10 iteration\n",
      "0.1570727523644089 is the cost for 11 iteration\n",
      "0.13208495004924878 is the cost for 12 iteration\n",
      "0.11118887888253359 is the cost for 13 iteration\n",
      "0.09368138734809418 is the cost for 14 iteration\n",
      "0.07898930871565209 is the cost for 15 iteration\n",
      "0.06664302396464632 is the cost for 16 iteration\n",
      "0.05625599088038327 is the cost for 17 iteration\n",
      "0.04750876173708875 is the cost for 18 iteration\n",
      "0.04013640434333986 is the cost for 19 iteration\n",
      "0.03391852445764148 is the cost for 20 iteration\n",
      "0.028671292978154878 is the cost for 21 iteration\n",
      "0.024241030952467647 is the cost for 22 iteration\n",
      "0.020499015033223 is the cost for 23 iteration\n",
      "0.017337246704694317 is the cost for 24 iteration\n",
      "0.014664988407386554 is the cost for 25 iteration\n",
      "0.012405914305245864 is the cost for 26 iteration\n",
      "0.010495756971480327 is the cost for 27 iteration\n",
      "0.008880356663304823 is the cost for 28 iteration\n",
      "0.007514039242262717 is the cost for 29 iteration\n",
      "0.006358263718389891 is the cost for 30 iteration\n",
      "0.005380491976923254 is the cost for 31 iteration\n",
      "0.004553242307610272 is the cost for 32 iteration\n",
      "0.0038532955038317555 is the cost for 33 iteration\n",
      "0.003261027979514652 is the cost for 34 iteration\n"
     ]
    }
   ],
   "source": [
    "gradient_descent(x,y,1000,0.2)\n"
   ]
  },
  {
   "cell_type": "code",
   "execution_count": 65,
   "metadata": {},
   "outputs": [
    {
     "data": {
      "text/plain": [
       "['2', '3', '4']"
      ]
     },
     "execution_count": 65,
     "metadata": {},
     "output_type": "execute_result"
    }
   ],
   "source": [
    "### now you have to stop the model when first four digits post decimal are same for 5 consec iterations\n",
    "x = 1.234323\n",
    "x = list(str(x))\n",
    "# x = np.array(x)\n",
    "x\n",
    "x[2:5]\n",
    "# if(x[2:5]==y[2:5]):\n",
    "#     break"
   ]
  },
  {
   "cell_type": "code",
   "execution_count": null,
   "metadata": {},
   "outputs": [],
   "source": []
  }
 ],
 "metadata": {
  "kernelspec": {
   "display_name": "Python 3",
   "language": "python",
   "name": "python3"
  },
  "language_info": {
   "codemirror_mode": {
    "name": "ipython",
    "version": 3
   },
   "file_extension": ".py",
   "mimetype": "text/x-python",
   "name": "python",
   "nbconvert_exporter": "python",
   "pygments_lexer": "ipython3",
   "version": "3.6.5"
  }
 },
 "nbformat": 4,
 "nbformat_minor": 2
}
